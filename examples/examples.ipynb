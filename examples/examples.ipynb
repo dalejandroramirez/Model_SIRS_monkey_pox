{
 "cells": [
  {
   "cell_type": "markdown",
   "metadata": {},
   "source": [
    "## covid-seird package examples"
   ]
  },
  {
   "cell_type": "markdown",
   "metadata": {},
   "source": [
    "### Package Import"
   ]
  },
  {
   "cell_type": "code",
   "execution_count": 2,
   "metadata": {},
   "outputs": [],
   "source": [
    "from covid_seird import CountryCovidSeird"
   ]
  },
  {
   "cell_type": "markdown",
   "metadata": {},
   "source": [
    "### Country Code search"
   ]
  },
  {
   "cell_type": "code",
   "execution_count": 3,
   "metadata": {},
   "outputs": [
    {
     "data": {
      "text/plain": [
       "{'BR': 'Brazil', 'CG': 'Congo (Brazzaville)'}"
      ]
     },
     "execution_count": 3,
     "metadata": {},
     "output_type": "execute_result"
    }
   ],
   "source": [
    "CountryCovidSeird.code_search('bra')"
   ]
  },
  {
   "cell_type": "markdown",
   "metadata": {},
   "source": [
    "### Retrieving Country data"
   ]
  },
  {
   "cell_type": "code",
   "execution_count": 4,
   "metadata": {},
   "outputs": [],
   "source": [
    "brazil = CountryCovidSeird('br')"
   ]
  },
  {
   "cell_type": "markdown",
   "metadata": {},
   "source": [
    "### Country initial properties"
   ]
  },
  {
   "cell_type": "code",
   "execution_count": 5,
   "metadata": {},
   "outputs": [
    {
     "data": {
      "text/plain": [
       "'BR'"
      ]
     },
     "execution_count": 5,
     "metadata": {},
     "output_type": "execute_result"
    }
   ],
   "source": [
    "brazil.code"
   ]
  },
  {
   "cell_type": "code",
   "execution_count": 6,
   "metadata": {},
   "outputs": [
    {
     "data": {
      "text/plain": [
       "'Brazil'"
      ]
     },
     "execution_count": 6,
     "metadata": {},
     "output_type": "execute_result"
    }
   ],
   "source": [
    "brazil.name"
   ]
  },
  {
   "cell_type": "code",
   "execution_count": 7,
   "metadata": {},
   "outputs": [
    {
     "data": {
      "text/plain": [
       "209469333"
      ]
     },
     "execution_count": 7,
     "metadata": {},
     "output_type": "execute_result"
    }
   ],
   "source": [
    "brazil.population"
   ]
  },
  {
   "cell_type": "code",
   "execution_count": 8,
   "metadata": {},
   "outputs": [
    {
     "data": {
      "text/html": [
       "<div>\n",
       "<style scoped>\n",
       "    .dataframe tbody tr th:only-of-type {\n",
       "        vertical-align: middle;\n",
       "    }\n",
       "\n",
       "    .dataframe tbody tr th {\n",
       "        vertical-align: top;\n",
       "    }\n",
       "\n",
       "    .dataframe thead th {\n",
       "        text-align: right;\n",
       "    }\n",
       "</style>\n",
       "<table border=\"1\" class=\"dataframe\">\n",
       "  <thead>\n",
       "    <tr style=\"text-align: right;\">\n",
       "      <th></th>\n",
       "      <th>confirmed</th>\n",
       "      <th>deaths</th>\n",
       "    </tr>\n",
       "  </thead>\n",
       "  <tbody>\n",
       "    <tr>\n",
       "      <th>2020-02-26T00:00:00Z</th>\n",
       "      <td>1</td>\n",
       "      <td>0</td>\n",
       "    </tr>\n",
       "    <tr>\n",
       "      <th>2020-02-27T00:00:00Z</th>\n",
       "      <td>1</td>\n",
       "      <td>0</td>\n",
       "    </tr>\n",
       "    <tr>\n",
       "      <th>2020-02-28T00:00:00Z</th>\n",
       "      <td>1</td>\n",
       "      <td>0</td>\n",
       "    </tr>\n",
       "    <tr>\n",
       "      <th>2020-02-29T00:00:00Z</th>\n",
       "      <td>2</td>\n",
       "      <td>0</td>\n",
       "    </tr>\n",
       "    <tr>\n",
       "      <th>2020-03-01T00:00:00Z</th>\n",
       "      <td>2</td>\n",
       "      <td>0</td>\n",
       "    </tr>\n",
       "    <tr>\n",
       "      <th>...</th>\n",
       "      <td>...</td>\n",
       "      <td>...</td>\n",
       "    </tr>\n",
       "    <tr>\n",
       "      <th>2020-05-26T00:00:00Z</th>\n",
       "      <td>391222</td>\n",
       "      <td>24512</td>\n",
       "    </tr>\n",
       "    <tr>\n",
       "      <th>2020-05-27T00:00:00Z</th>\n",
       "      <td>411821</td>\n",
       "      <td>25598</td>\n",
       "    </tr>\n",
       "    <tr>\n",
       "      <th>2020-05-28T00:00:00Z</th>\n",
       "      <td>438238</td>\n",
       "      <td>26754</td>\n",
       "    </tr>\n",
       "    <tr>\n",
       "      <th>2020-05-29T00:00:00Z</th>\n",
       "      <td>465166</td>\n",
       "      <td>27878</td>\n",
       "    </tr>\n",
       "    <tr>\n",
       "      <th>2020-05-30T00:00:00Z</th>\n",
       "      <td>498440</td>\n",
       "      <td>28834</td>\n",
       "    </tr>\n",
       "  </tbody>\n",
       "</table>\n",
       "<p>95 rows × 2 columns</p>\n",
       "</div>"
      ],
      "text/plain": [
       "                      confirmed  deaths\n",
       "2020-02-26T00:00:00Z          1       0\n",
       "2020-02-27T00:00:00Z          1       0\n",
       "2020-02-28T00:00:00Z          1       0\n",
       "2020-02-29T00:00:00Z          2       0\n",
       "2020-03-01T00:00:00Z          2       0\n",
       "...                         ...     ...\n",
       "2020-05-26T00:00:00Z     391222   24512\n",
       "2020-05-27T00:00:00Z     411821   25598\n",
       "2020-05-28T00:00:00Z     438238   26754\n",
       "2020-05-29T00:00:00Z     465166   27878\n",
       "2020-05-30T00:00:00Z     498440   28834\n",
       "\n",
       "[95 rows x 2 columns]"
      ]
     },
     "execution_count": 8,
     "metadata": {},
     "output_type": "execute_result"
    }
   ],
   "source": [
    "brazil.data"
   ]
  },
  {
   "cell_type": "markdown",
   "metadata": {},
   "source": [
    "### Fit SEIRD model"
   ]
  },
  {
   "cell_type": "code",
   "execution_count": 9,
   "metadata": {},
   "outputs": [],
   "source": [
    "brazil.fit()"
   ]
  },
  {
   "cell_type": "markdown",
   "metadata": {},
   "source": [
    "### Fit evaluation"
   ]
  },
  {
   "cell_type": "code",
   "execution_count": 10,
   "metadata": {},
   "outputs": [
    {
     "data": {
      "text/plain": [
       "0.8197939079292966"
      ]
     },
     "execution_count": 10,
     "metadata": {},
     "output_type": "execute_result"
    }
   ],
   "source": [
    "brazil.r2"
   ]
  },
  {
   "cell_type": "markdown",
   "metadata": {},
   "source": [
    "### Basic reproduction number"
   ]
  },
  {
   "cell_type": "code",
   "execution_count": 11,
   "metadata": {},
   "outputs": [
    {
     "data": {
      "text/plain": [
       "2.4712309845245866"
      ]
     },
     "execution_count": 11,
     "metadata": {},
     "output_type": "execute_result"
    }
   ],
   "source": [
    "brazil.r0"
   ]
  },
  {
   "cell_type": "markdown",
   "metadata": {},
   "source": [
    "### Fit plot"
   ]
  },
  {
   "cell_type": "code",
   "execution_count": 17,
   "metadata": {},
   "outputs": [
    {
     "data": {
      "image/png": "[encoded data removed]",
      "text/plain": [
       "<Figure size 720x288 with 1 Axes>"
      ]
     },
     "metadata": {
      "needs_background": "light"
     },
     "output_type": "display_data"
    }
   ],
   "source": [
    "brazil.plot_fit();"
   ]
  },
  {
   "cell_type": "markdown",
   "metadata": {},
   "source": [
    "### SEIRD Simulation"
   ]
  },
  {
   "cell_type": "code",
   "execution_count": 13,
   "metadata": {},
   "outputs": [],
   "source": [
    "brazil.simulation(days_ahead=150)"
   ]
  },
  {
   "cell_type": "markdown",
   "metadata": {},
   "source": [
    "### SEIRD Curves"
   ]
  },
  {
   "cell_type": "code",
   "execution_count": 14,
   "metadata": {},
   "outputs": [
    {
     "data": {
      "text/html": [
       "<div>\n",
       "<style scoped>\n",
       "    .dataframe tbody tr th:only-of-type {\n",
       "        vertical-align: middle;\n",
       "    }\n",
       "\n",
       "    .dataframe tbody tr th {\n",
       "        vertical-align: top;\n",
       "    }\n",
       "\n",
       "    .dataframe thead th {\n",
       "        text-align: right;\n",
       "    }\n",
       "</style>\n",
       "<table border=\"1\" class=\"dataframe\">\n",
       "  <thead>\n",
       "    <tr style=\"text-align: right;\">\n",
       "      <th></th>\n",
       "      <th>susceptible</th>\n",
       "      <th>exposed</th>\n",
       "      <th>infected</th>\n",
       "      <th>recovered</th>\n",
       "      <th>dead</th>\n",
       "    </tr>\n",
       "  </thead>\n",
       "  <tbody>\n",
       "    <tr>\n",
       "      <th>0</th>\n",
       "      <td>1.000000</td>\n",
       "      <td>4.773969e-09</td>\n",
       "      <td>4.773969e-09</td>\n",
       "      <td>0.000000e+00</td>\n",
       "      <td>0.000000e+00</td>\n",
       "    </tr>\n",
       "    <tr>\n",
       "      <th>1</th>\n",
       "      <td>1.000000</td>\n",
       "      <td>5.834638e-09</td>\n",
       "      <td>5.428839e-09</td>\n",
       "      <td>6.489712e-10</td>\n",
       "      <td>5.082722e-16</td>\n",
       "    </tr>\n",
       "    <tr>\n",
       "      <th>2</th>\n",
       "      <td>1.000000</td>\n",
       "      <td>7.001235e-09</td>\n",
       "      <td>6.250060e-09</td>\n",
       "      <td>1.400943e-09</td>\n",
       "      <td>1.097214e-15</td>\n",
       "    </tr>\n",
       "    <tr>\n",
       "      <th>3</th>\n",
       "      <td>1.000000</td>\n",
       "      <td>8.191759e-09</td>\n",
       "      <td>7.112060e-09</td>\n",
       "      <td>2.177391e-09</td>\n",
       "      <td>1.705326e-15</td>\n",
       "    </tr>\n",
       "    <tr>\n",
       "      <th>4</th>\n",
       "      <td>1.000000</td>\n",
       "      <td>9.488832e-09</td>\n",
       "      <td>8.156999e-09</td>\n",
       "      <td>3.063350e-09</td>\n",
       "      <td>2.399206e-15</td>\n",
       "    </tr>\n",
       "    <tr>\n",
       "      <th>...</th>\n",
       "      <td>...</td>\n",
       "      <td>...</td>\n",
       "      <td>...</td>\n",
       "      <td>...</td>\n",
       "      <td>...</td>\n",
       "    </tr>\n",
       "    <tr>\n",
       "      <th>240</th>\n",
       "      <td>0.029093</td>\n",
       "      <td>4.969285e-06</td>\n",
       "      <td>5.059040e-05</td>\n",
       "      <td>9.708511e-01</td>\n",
       "      <td>7.603676e-07</td>\n",
       "    </tr>\n",
       "    <tr>\n",
       "      <th>241</th>\n",
       "      <td>0.029092</td>\n",
       "      <td>4.521844e-06</td>\n",
       "      <td>4.604260e-05</td>\n",
       "      <td>9.708567e-01</td>\n",
       "      <td>7.603720e-07</td>\n",
       "    </tr>\n",
       "    <tr>\n",
       "      <th>242</th>\n",
       "      <td>0.029091</td>\n",
       "      <td>4.114992e-06</td>\n",
       "      <td>4.190306e-05</td>\n",
       "      <td>9.708618e-01</td>\n",
       "      <td>7.603760e-07</td>\n",
       "    </tr>\n",
       "    <tr>\n",
       "      <th>243</th>\n",
       "      <td>0.029091</td>\n",
       "      <td>3.744910e-06</td>\n",
       "      <td>3.813537e-05</td>\n",
       "      <td>9.708664e-01</td>\n",
       "      <td>7.603796e-07</td>\n",
       "    </tr>\n",
       "    <tr>\n",
       "      <th>244</th>\n",
       "      <td>0.029090</td>\n",
       "      <td>3.408175e-06</td>\n",
       "      <td>3.470637e-05</td>\n",
       "      <td>9.708706e-01</td>\n",
       "      <td>7.603829e-07</td>\n",
       "    </tr>\n",
       "  </tbody>\n",
       "</table>\n",
       "<p>245 rows × 5 columns</p>\n",
       "</div>"
      ],
      "text/plain": [
       "     susceptible       exposed      infected     recovered          dead\n",
       "0       1.000000  4.773969e-09  4.773969e-09  0.000000e+00  0.000000e+00\n",
       "1       1.000000  5.834638e-09  5.428839e-09  6.489712e-10  5.082722e-16\n",
       "2       1.000000  7.001235e-09  6.250060e-09  1.400943e-09  1.097214e-15\n",
       "3       1.000000  8.191759e-09  7.112060e-09  2.177391e-09  1.705326e-15\n",
       "4       1.000000  9.488832e-09  8.156999e-09  3.063350e-09  2.399206e-15\n",
       "..           ...           ...           ...           ...           ...\n",
       "240     0.029093  4.969285e-06  5.059040e-05  9.708511e-01  7.603676e-07\n",
       "241     0.029092  4.521844e-06  4.604260e-05  9.708567e-01  7.603720e-07\n",
       "242     0.029091  4.114992e-06  4.190306e-05  9.708618e-01  7.603760e-07\n",
       "243     0.029091  3.744910e-06  3.813537e-05  9.708664e-01  7.603796e-07\n",
       "244     0.029090  3.408175e-06  3.470637e-05  9.708706e-01  7.603829e-07\n",
       "\n",
       "[245 rows x 5 columns]"
      ]
     },
     "execution_count": 14,
     "metadata": {},
     "output_type": "execute_result"
    }
   ],
   "source": [
    "brazil.curves"
   ]
  },
  {
   "cell_type": "markdown",
   "metadata": {},
   "source": [
    "### SEIRD plot"
   ]
  },
  {
   "cell_type": "code",
   "execution_count": 16,
   "metadata": {},
   "outputs": [
    {
     "data": {
      "image/png": "[encoded data removed]",
      "text/plain": [
       "<Figure size 720x288 with 1 Axes>"
      ]
     },
     "metadata": {
      "needs_background": "light"
     },
     "output_type": "display_data"
    }
   ],
   "source": [
    "brazil.plot_simulation();"
   ]
  }
 ],
 "metadata": {
  "kernelspec": {
   "display_name": "Python 3",
   "language": "python",
   "name": "python3"
  },
  "language_info": {
   "codemirror_mode": {
    "name": "ipython",
    "version": 3
   },
   "file_extension": ".py",
   "mimetype": "text/x-python",
   "name": "python",
   "nbconvert_exporter": "python",
   "pygments_lexer": "ipython3",
   "version": "3.6.9"
  }
 },
 "nbformat": 4,
 "nbformat_minor": 4
}
